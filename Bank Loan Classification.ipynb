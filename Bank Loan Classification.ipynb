{
 "cells": [
  {
   "cell_type": "markdown",
   "id": "eb548aeb",
   "metadata": {},
   "source": [
    "# Overview\n",
    "\n",
    "Introduction: Loan is a major source of income for bank, while lending banks go through necessary verification process by evaluating the client, their demographics, credit history, loan amount in order to decide wheather or not to approve the loan.\n",
    "\n",
    "This process of identifying wheather to approve loan or not can be solved using ML in modern times using classification.\n",
    "\n",
    "Data Source: This data is downloaded from Kaggle. The data set used is having 13 columns and 615 rows.\n",
    "\n",
    "Columns:\n",
    "Loan_ID = Unique Id Assigned to customers, object data type, independent variable\n",
    "Gender = Male, Female, object data type, independent variable\n",
    "Married = Maritial status, object data type, independent variable\n",
    "Dependents = Number of dependent count, object data type, independent variable\n",
    "Education = Graduate, Not Graduate, object data type, independent variable\n",
    "Self_Employed = Yes, No, object data type, independent variable\n",
    "Applicantincome = Income, Int data type, independent variable\n",
    "Coapplicantincome = coapplicant income, int datatype, independent variable\n",
    "LoanaAmount = Loan amount, int data type, independent variable \n",
    "Loan_Amount_Term = Days for which loan is taken, int data type, independent variable\n",
    "Credit_History = 1 indicates credit paid, 0 indicates loan not paid previously, int data type, independent variable\n",
    "Property_Area = Area in which the propert is located namely urban or rural, independent variable\n",
    "Loan_Status = Loan is approved or not 'Y'= Approved, 'N' = Not Approved, Dependent Variable\n",
    "\n",
    "This jupyter notebook has the source code for the analysis"
   ]
  },
  {
   "cell_type": "code",
   "execution_count": 1,
   "id": "2bb556d2",
   "metadata": {},
   "outputs": [],
   "source": [
    "import pandas as pd\n",
    "import numpy as np\n",
    "import matplotlib.pyplot as plt\n",
    "import seaborn as sns\n",
    "import warnings\n",
    "warnings.filterwarnings('ignore')\n",
    "%matplotlib inline"
   ]
  },
  {
   "cell_type": "code",
   "execution_count": 2,
   "id": "61373fa1",
   "metadata": {},
   "outputs": [
    {
     "data": {
      "text/html": [
       "<div>\n",
       "<style scoped>\n",
       "    .dataframe tbody tr th:only-of-type {\n",
       "        vertical-align: middle;\n",
       "    }\n",
       "\n",
       "    .dataframe tbody tr th {\n",
       "        vertical-align: top;\n",
       "    }\n",
       "\n",
       "    .dataframe thead th {\n",
       "        text-align: right;\n",
       "    }\n",
       "</style>\n",
       "<table border=\"1\" class=\"dataframe\">\n",
       "  <thead>\n",
       "    <tr style=\"text-align: right;\">\n",
       "      <th></th>\n",
       "      <th>Loan_ID</th>\n",
       "      <th>Gender</th>\n",
       "      <th>Married</th>\n",
       "      <th>Dependents</th>\n",
       "      <th>Education</th>\n",
       "      <th>Self_Employed</th>\n",
       "      <th>ApplicantIncome</th>\n",
       "      <th>CoapplicantIncome</th>\n",
       "      <th>LoanAmount</th>\n",
       "      <th>Loan_Amount_Term</th>\n",
       "      <th>Credit_History</th>\n",
       "      <th>Property_Area</th>\n",
       "      <th>Loan_Status</th>\n",
       "    </tr>\n",
       "  </thead>\n",
       "  <tbody>\n",
       "    <tr>\n",
       "      <th>0</th>\n",
       "      <td>LP001002</td>\n",
       "      <td>Male</td>\n",
       "      <td>No</td>\n",
       "      <td>0</td>\n",
       "      <td>Graduate</td>\n",
       "      <td>No</td>\n",
       "      <td>5849</td>\n",
       "      <td>0.0</td>\n",
       "      <td>NaN</td>\n",
       "      <td>360.0</td>\n",
       "      <td>1.0</td>\n",
       "      <td>Urban</td>\n",
       "      <td>Y</td>\n",
       "    </tr>\n",
       "    <tr>\n",
       "      <th>1</th>\n",
       "      <td>LP001003</td>\n",
       "      <td>Male</td>\n",
       "      <td>Yes</td>\n",
       "      <td>1</td>\n",
       "      <td>Graduate</td>\n",
       "      <td>No</td>\n",
       "      <td>4583</td>\n",
       "      <td>1508.0</td>\n",
       "      <td>128.0</td>\n",
       "      <td>360.0</td>\n",
       "      <td>1.0</td>\n",
       "      <td>Rural</td>\n",
       "      <td>N</td>\n",
       "    </tr>\n",
       "    <tr>\n",
       "      <th>2</th>\n",
       "      <td>LP001005</td>\n",
       "      <td>Male</td>\n",
       "      <td>Yes</td>\n",
       "      <td>0</td>\n",
       "      <td>Graduate</td>\n",
       "      <td>Yes</td>\n",
       "      <td>3000</td>\n",
       "      <td>0.0</td>\n",
       "      <td>66.0</td>\n",
       "      <td>360.0</td>\n",
       "      <td>1.0</td>\n",
       "      <td>Urban</td>\n",
       "      <td>Y</td>\n",
       "    </tr>\n",
       "    <tr>\n",
       "      <th>3</th>\n",
       "      <td>LP001006</td>\n",
       "      <td>Male</td>\n",
       "      <td>Yes</td>\n",
       "      <td>0</td>\n",
       "      <td>Not Graduate</td>\n",
       "      <td>No</td>\n",
       "      <td>2583</td>\n",
       "      <td>2358.0</td>\n",
       "      <td>120.0</td>\n",
       "      <td>360.0</td>\n",
       "      <td>1.0</td>\n",
       "      <td>Urban</td>\n",
       "      <td>Y</td>\n",
       "    </tr>\n",
       "    <tr>\n",
       "      <th>4</th>\n",
       "      <td>LP001008</td>\n",
       "      <td>Male</td>\n",
       "      <td>No</td>\n",
       "      <td>0</td>\n",
       "      <td>Graduate</td>\n",
       "      <td>No</td>\n",
       "      <td>6000</td>\n",
       "      <td>0.0</td>\n",
       "      <td>141.0</td>\n",
       "      <td>360.0</td>\n",
       "      <td>1.0</td>\n",
       "      <td>Urban</td>\n",
       "      <td>Y</td>\n",
       "    </tr>\n",
       "    <tr>\n",
       "      <th>...</th>\n",
       "      <td>...</td>\n",
       "      <td>...</td>\n",
       "      <td>...</td>\n",
       "      <td>...</td>\n",
       "      <td>...</td>\n",
       "      <td>...</td>\n",
       "      <td>...</td>\n",
       "      <td>...</td>\n",
       "      <td>...</td>\n",
       "      <td>...</td>\n",
       "      <td>...</td>\n",
       "      <td>...</td>\n",
       "      <td>...</td>\n",
       "    </tr>\n",
       "    <tr>\n",
       "      <th>609</th>\n",
       "      <td>LP002978</td>\n",
       "      <td>Female</td>\n",
       "      <td>No</td>\n",
       "      <td>0</td>\n",
       "      <td>Graduate</td>\n",
       "      <td>No</td>\n",
       "      <td>2900</td>\n",
       "      <td>0.0</td>\n",
       "      <td>71.0</td>\n",
       "      <td>360.0</td>\n",
       "      <td>1.0</td>\n",
       "      <td>Rural</td>\n",
       "      <td>Y</td>\n",
       "    </tr>\n",
       "    <tr>\n",
       "      <th>610</th>\n",
       "      <td>LP002979</td>\n",
       "      <td>Male</td>\n",
       "      <td>Yes</td>\n",
       "      <td>3+</td>\n",
       "      <td>Graduate</td>\n",
       "      <td>No</td>\n",
       "      <td>4106</td>\n",
       "      <td>0.0</td>\n",
       "      <td>40.0</td>\n",
       "      <td>180.0</td>\n",
       "      <td>1.0</td>\n",
       "      <td>Rural</td>\n",
       "      <td>Y</td>\n",
       "    </tr>\n",
       "    <tr>\n",
       "      <th>611</th>\n",
       "      <td>LP002983</td>\n",
       "      <td>Male</td>\n",
       "      <td>Yes</td>\n",
       "      <td>1</td>\n",
       "      <td>Graduate</td>\n",
       "      <td>No</td>\n",
       "      <td>8072</td>\n",
       "      <td>240.0</td>\n",
       "      <td>253.0</td>\n",
       "      <td>360.0</td>\n",
       "      <td>1.0</td>\n",
       "      <td>Urban</td>\n",
       "      <td>Y</td>\n",
       "    </tr>\n",
       "    <tr>\n",
       "      <th>612</th>\n",
       "      <td>LP002984</td>\n",
       "      <td>Male</td>\n",
       "      <td>Yes</td>\n",
       "      <td>2</td>\n",
       "      <td>Graduate</td>\n",
       "      <td>No</td>\n",
       "      <td>7583</td>\n",
       "      <td>0.0</td>\n",
       "      <td>187.0</td>\n",
       "      <td>360.0</td>\n",
       "      <td>1.0</td>\n",
       "      <td>Urban</td>\n",
       "      <td>Y</td>\n",
       "    </tr>\n",
       "    <tr>\n",
       "      <th>613</th>\n",
       "      <td>LP002990</td>\n",
       "      <td>Female</td>\n",
       "      <td>No</td>\n",
       "      <td>0</td>\n",
       "      <td>Graduate</td>\n",
       "      <td>Yes</td>\n",
       "      <td>4583</td>\n",
       "      <td>0.0</td>\n",
       "      <td>133.0</td>\n",
       "      <td>360.0</td>\n",
       "      <td>0.0</td>\n",
       "      <td>Semiurban</td>\n",
       "      <td>N</td>\n",
       "    </tr>\n",
       "  </tbody>\n",
       "</table>\n",
       "<p>614 rows × 13 columns</p>\n",
       "</div>"
      ],
      "text/plain": [
       "      Loan_ID  Gender Married Dependents     Education Self_Employed  \\\n",
       "0    LP001002    Male      No          0      Graduate            No   \n",
       "1    LP001003    Male     Yes          1      Graduate            No   \n",
       "2    LP001005    Male     Yes          0      Graduate           Yes   \n",
       "3    LP001006    Male     Yes          0  Not Graduate            No   \n",
       "4    LP001008    Male      No          0      Graduate            No   \n",
       "..        ...     ...     ...        ...           ...           ...   \n",
       "609  LP002978  Female      No          0      Graduate            No   \n",
       "610  LP002979    Male     Yes         3+      Graduate            No   \n",
       "611  LP002983    Male     Yes          1      Graduate            No   \n",
       "612  LP002984    Male     Yes          2      Graduate            No   \n",
       "613  LP002990  Female      No          0      Graduate           Yes   \n",
       "\n",
       "     ApplicantIncome  CoapplicantIncome  LoanAmount  Loan_Amount_Term  \\\n",
       "0               5849                0.0         NaN             360.0   \n",
       "1               4583             1508.0       128.0             360.0   \n",
       "2               3000                0.0        66.0             360.0   \n",
       "3               2583             2358.0       120.0             360.0   \n",
       "4               6000                0.0       141.0             360.0   \n",
       "..               ...                ...         ...               ...   \n",
       "609             2900                0.0        71.0             360.0   \n",
       "610             4106                0.0        40.0             180.0   \n",
       "611             8072              240.0       253.0             360.0   \n",
       "612             7583                0.0       187.0             360.0   \n",
       "613             4583                0.0       133.0             360.0   \n",
       "\n",
       "     Credit_History Property_Area Loan_Status  \n",
       "0               1.0         Urban           Y  \n",
       "1               1.0         Rural           N  \n",
       "2               1.0         Urban           Y  \n",
       "3               1.0         Urban           Y  \n",
       "4               1.0         Urban           Y  \n",
       "..              ...           ...         ...  \n",
       "609             1.0         Rural           Y  \n",
       "610             1.0         Rural           Y  \n",
       "611             1.0         Urban           Y  \n",
       "612             1.0         Urban           Y  \n",
       "613             0.0     Semiurban           N  \n",
       "\n",
       "[614 rows x 13 columns]"
      ]
     },
     "execution_count": 2,
     "metadata": {},
     "output_type": "execute_result"
    }
   ],
   "source": [
    "dataset=pd.read_csv('Loan_Data.csv')\n",
    "dataset"
   ]
  },
  {
   "cell_type": "code",
   "execution_count": 3,
   "id": "c8fba4ee",
   "metadata": {},
   "outputs": [
    {
     "data": {
      "text/plain": [
       "(614, 13)"
      ]
     },
     "execution_count": 3,
     "metadata": {},
     "output_type": "execute_result"
    }
   ],
   "source": [
    "dataset.shape"
   ]
  },
  {
   "cell_type": "code",
   "execution_count": 4,
   "id": "efa5bc06",
   "metadata": {},
   "outputs": [
    {
     "data": {
      "text/html": [
       "<div>\n",
       "<style scoped>\n",
       "    .dataframe tbody tr th:only-of-type {\n",
       "        vertical-align: middle;\n",
       "    }\n",
       "\n",
       "    .dataframe tbody tr th {\n",
       "        vertical-align: top;\n",
       "    }\n",
       "\n",
       "    .dataframe thead th {\n",
       "        text-align: right;\n",
       "    }\n",
       "</style>\n",
       "<table border=\"1\" class=\"dataframe\">\n",
       "  <thead>\n",
       "    <tr style=\"text-align: right;\">\n",
       "      <th></th>\n",
       "      <th>Loan_ID</th>\n",
       "      <th>Gender</th>\n",
       "      <th>Married</th>\n",
       "      <th>Dependents</th>\n",
       "      <th>Education</th>\n",
       "      <th>Self_Employed</th>\n",
       "      <th>ApplicantIncome</th>\n",
       "      <th>CoapplicantIncome</th>\n",
       "      <th>LoanAmount</th>\n",
       "      <th>Loan_Amount_Term</th>\n",
       "      <th>Credit_History</th>\n",
       "      <th>Property_Area</th>\n",
       "      <th>Loan_Status</th>\n",
       "    </tr>\n",
       "  </thead>\n",
       "  <tbody>\n",
       "    <tr>\n",
       "      <th>0</th>\n",
       "      <td>LP001002</td>\n",
       "      <td>Male</td>\n",
       "      <td>No</td>\n",
       "      <td>0</td>\n",
       "      <td>Graduate</td>\n",
       "      <td>No</td>\n",
       "      <td>5849</td>\n",
       "      <td>0.0</td>\n",
       "      <td>NaN</td>\n",
       "      <td>360.0</td>\n",
       "      <td>1.0</td>\n",
       "      <td>Urban</td>\n",
       "      <td>Y</td>\n",
       "    </tr>\n",
       "    <tr>\n",
       "      <th>1</th>\n",
       "      <td>LP001003</td>\n",
       "      <td>Male</td>\n",
       "      <td>Yes</td>\n",
       "      <td>1</td>\n",
       "      <td>Graduate</td>\n",
       "      <td>No</td>\n",
       "      <td>4583</td>\n",
       "      <td>1508.0</td>\n",
       "      <td>128.0</td>\n",
       "      <td>360.0</td>\n",
       "      <td>1.0</td>\n",
       "      <td>Rural</td>\n",
       "      <td>N</td>\n",
       "    </tr>\n",
       "    <tr>\n",
       "      <th>2</th>\n",
       "      <td>LP001005</td>\n",
       "      <td>Male</td>\n",
       "      <td>Yes</td>\n",
       "      <td>0</td>\n",
       "      <td>Graduate</td>\n",
       "      <td>Yes</td>\n",
       "      <td>3000</td>\n",
       "      <td>0.0</td>\n",
       "      <td>66.0</td>\n",
       "      <td>360.0</td>\n",
       "      <td>1.0</td>\n",
       "      <td>Urban</td>\n",
       "      <td>Y</td>\n",
       "    </tr>\n",
       "    <tr>\n",
       "      <th>3</th>\n",
       "      <td>LP001006</td>\n",
       "      <td>Male</td>\n",
       "      <td>Yes</td>\n",
       "      <td>0</td>\n",
       "      <td>Not Graduate</td>\n",
       "      <td>No</td>\n",
       "      <td>2583</td>\n",
       "      <td>2358.0</td>\n",
       "      <td>120.0</td>\n",
       "      <td>360.0</td>\n",
       "      <td>1.0</td>\n",
       "      <td>Urban</td>\n",
       "      <td>Y</td>\n",
       "    </tr>\n",
       "    <tr>\n",
       "      <th>4</th>\n",
       "      <td>LP001008</td>\n",
       "      <td>Male</td>\n",
       "      <td>No</td>\n",
       "      <td>0</td>\n",
       "      <td>Graduate</td>\n",
       "      <td>No</td>\n",
       "      <td>6000</td>\n",
       "      <td>0.0</td>\n",
       "      <td>141.0</td>\n",
       "      <td>360.0</td>\n",
       "      <td>1.0</td>\n",
       "      <td>Urban</td>\n",
       "      <td>Y</td>\n",
       "    </tr>\n",
       "  </tbody>\n",
       "</table>\n",
       "</div>"
      ],
      "text/plain": [
       "    Loan_ID Gender Married Dependents     Education Self_Employed  \\\n",
       "0  LP001002   Male      No          0      Graduate            No   \n",
       "1  LP001003   Male     Yes          1      Graduate            No   \n",
       "2  LP001005   Male     Yes          0      Graduate           Yes   \n",
       "3  LP001006   Male     Yes          0  Not Graduate            No   \n",
       "4  LP001008   Male      No          0      Graduate            No   \n",
       "\n",
       "   ApplicantIncome  CoapplicantIncome  LoanAmount  Loan_Amount_Term  \\\n",
       "0             5849                0.0         NaN             360.0   \n",
       "1             4583             1508.0       128.0             360.0   \n",
       "2             3000                0.0        66.0             360.0   \n",
       "3             2583             2358.0       120.0             360.0   \n",
       "4             6000                0.0       141.0             360.0   \n",
       "\n",
       "   Credit_History Property_Area Loan_Status  \n",
       "0             1.0         Urban           Y  \n",
       "1             1.0         Rural           N  \n",
       "2             1.0         Urban           Y  \n",
       "3             1.0         Urban           Y  \n",
       "4             1.0         Urban           Y  "
      ]
     },
     "execution_count": 4,
     "metadata": {},
     "output_type": "execute_result"
    }
   ],
   "source": [
    "dataset.head()"
   ]
  },
  {
   "cell_type": "code",
   "execution_count": 5,
   "id": "7fad3b34",
   "metadata": {},
   "outputs": [
    {
     "name": "stdout",
     "output_type": "stream",
     "text": [
      "<class 'pandas.core.frame.DataFrame'>\n",
      "RangeIndex: 614 entries, 0 to 613\n",
      "Data columns (total 13 columns):\n",
      " #   Column             Non-Null Count  Dtype  \n",
      "---  ------             --------------  -----  \n",
      " 0   Loan_ID            614 non-null    object \n",
      " 1   Gender             601 non-null    object \n",
      " 2   Married            611 non-null    object \n",
      " 3   Dependents         599 non-null    object \n",
      " 4   Education          614 non-null    object \n",
      " 5   Self_Employed      582 non-null    object \n",
      " 6   ApplicantIncome    614 non-null    int64  \n",
      " 7   CoapplicantIncome  614 non-null    float64\n",
      " 8   LoanAmount         592 non-null    float64\n",
      " 9   Loan_Amount_Term   600 non-null    float64\n",
      " 10  Credit_History     564 non-null    float64\n",
      " 11  Property_Area      614 non-null    object \n",
      " 12  Loan_Status        614 non-null    object \n",
      "dtypes: float64(4), int64(1), object(8)\n",
      "memory usage: 62.5+ KB\n"
     ]
    }
   ],
   "source": [
    "dataset.info()"
   ]
  },
  {
   "cell_type": "markdown",
   "id": "1bacf50d",
   "metadata": {},
   "source": [
    "# Filling Null Values\n",
    "\n",
    "Filling null values is an important step as it ensures our model works properly and does not throw error\n",
    "Object data type should be filled with mode \n",
    "Int data type should be filled with mean however if the columns have outliers then it should be filled using median, since mean is sensitive to outliers."
   ]
  },
  {
   "cell_type": "code",
   "execution_count": 6,
   "id": "05f73dd3",
   "metadata": {},
   "outputs": [
    {
     "data": {
      "text/plain": [
       "Loan_ID               0\n",
       "Gender               13\n",
       "Married               3\n",
       "Dependents           15\n",
       "Education             0\n",
       "Self_Employed        32\n",
       "ApplicantIncome       0\n",
       "CoapplicantIncome     0\n",
       "LoanAmount           22\n",
       "Loan_Amount_Term     14\n",
       "Credit_History       50\n",
       "Property_Area         0\n",
       "Loan_Status           0\n",
       "dtype: int64"
      ]
     },
     "execution_count": 6,
     "metadata": {},
     "output_type": "execute_result"
    }
   ],
   "source": [
    "dataset.isnull().sum()"
   ]
  },
  {
   "cell_type": "code",
   "execution_count": 7,
   "id": "2abba1cf",
   "metadata": {},
   "outputs": [
    {
     "data": {
      "text/plain": [
       "<Axes: >"
      ]
     },
     "execution_count": 7,
     "metadata": {},
     "output_type": "execute_result"
    },
    {
     "data": {
      "image/png": "[encoded data removed]",
      "text/plain": [
       "<Figure size 1200x800 with 1 Axes>"
      ]
     },
     "metadata": {},
     "output_type": "display_data"
    }
   ],
   "source": [
    "## Checking the outliers\n",
    "plt.figure(figsize=(12,8))\n",
    "sns.boxplot(data= dataset)"
   ]
  },
  {
   "cell_type": "code",
   "execution_count": 8,
   "id": "19fab7bb",
   "metadata": {},
   "outputs": [],
   "source": [
    "# Fill null values of numeric data type\n",
    "dataset['LoanAmount']=dataset['LoanAmount'].fillna(dataset['LoanAmount'].median())\n",
    "dataset['Loan_Amount_Term']=dataset['Loan_Amount_Term'].fillna(dataset['Loan_Amount_Term'].mean())\n",
    "dataset['Credit_History']=dataset['Credit_History'].fillna(dataset['Credit_History'].mean())"
   ]
  },
  {
   "cell_type": "code",
   "execution_count": 9,
   "id": "3836ea27",
   "metadata": {},
   "outputs": [],
   "source": [
    "# Filling null values of object data type\n",
    "dataset['Gender']=dataset['Gender'].fillna(dataset['Gender'].mode()[0])\n",
    "dataset['Married']=dataset['Married'].fillna(dataset['Married'].mode()[0])\n",
    "dataset['Dependents']=dataset['Dependents'].fillna(dataset['Dependents'].mode()[0])\n",
    "dataset['Self_Employed']=dataset['Self_Employed'].fillna(dataset['Self_Employed'].mode()[0])"
   ]
  },
  {
   "cell_type": "code",
   "execution_count": 10,
   "id": "00c731fd",
   "metadata": {},
   "outputs": [
    {
     "data": {
      "text/plain": [
       "Loan_ID              0\n",
       "Gender               0\n",
       "Married              0\n",
       "Dependents           0\n",
       "Education            0\n",
       "Self_Employed        0\n",
       "ApplicantIncome      0\n",
       "CoapplicantIncome    0\n",
       "LoanAmount           0\n",
       "Loan_Amount_Term     0\n",
       "Credit_History       0\n",
       "Property_Area        0\n",
       "Loan_Status          0\n",
       "dtype: int64"
      ]
     },
     "execution_count": 10,
     "metadata": {},
     "output_type": "execute_result"
    }
   ],
   "source": [
    "dataset.isnull().sum()"
   ]
  },
  {
   "cell_type": "code",
   "execution_count": 11,
   "id": "96efcdbb",
   "metadata": {},
   "outputs": [
    {
     "name": "stdout",
     "output_type": "stream",
     "text": [
      "Number of people who took loan by gender\n",
      "Gender\n",
      "Male      502\n",
      "Female    112\n",
      "Name: count, dtype: int64\n"
     ]
    },
    {
     "data": {
      "text/plain": [
       "<Axes: xlabel='Gender', ylabel='count'>"
      ]
     },
     "execution_count": 11,
     "metadata": {},
     "output_type": "execute_result"
    },
    {
     "data": {
      "image/png": "[encoded data removed]",
      "text/plain": [
       "<Figure size 640x480 with 1 Axes>"
      ]
     },
     "metadata": {},
     "output_type": "display_data"
    }
   ],
   "source": [
    "print(\"Number of people who took loan by gender\")\n",
    "print(dataset['Gender'].value_counts())\n",
    "sns.countplot(x='Gender', data = dataset, palette='Set2')"
   ]
  },
  {
   "cell_type": "code",
   "execution_count": 12,
   "id": "61031fe2",
   "metadata": {},
   "outputs": [
    {
     "name": "stdout",
     "output_type": "stream",
     "text": [
      "Number of people who took loan by maritial status\n",
      "Married\n",
      "Yes    401\n",
      "No     213\n",
      "Name: count, dtype: int64\n"
     ]
    },
    {
     "data": {
      "text/plain": [
       "<Axes: xlabel='Married', ylabel='count'>"
      ]
     },
     "execution_count": 12,
     "metadata": {},
     "output_type": "execute_result"
    },
    {
     "data": {
      "image/png": "[encoded data removed]",
      "text/plain": [
       "<Figure size 640x480 with 1 Axes>"
      ]
     },
     "metadata": {},
     "output_type": "display_data"
    }
   ],
   "source": [
    "print('Number of people who took loan by maritial status')\n",
    "print(dataset['Married'].value_counts())\n",
    "sns.countplot(x='Married', data=dataset, palette='Set2')"
   ]
  },
  {
   "cell_type": "code",
   "execution_count": 13,
   "id": "f1b12606",
   "metadata": {},
   "outputs": [
    {
     "name": "stdout",
     "output_type": "stream",
     "text": [
      "Number of people who took loan based on education\n",
      "Education\n",
      "Graduate        480\n",
      "Not Graduate    134\n",
      "Name: count, dtype: int64\n"
     ]
    },
    {
     "data": {
      "text/plain": [
       "<Axes: xlabel='Education', ylabel='count'>"
      ]
     },
     "execution_count": 13,
     "metadata": {},
     "output_type": "execute_result"
    },
    {
     "data": {
      "image/png": "[encoded data removed]",
      "text/plain": [
       "<Figure size 640x480 with 1 Axes>"
      ]
     },
     "metadata": {},
     "output_type": "display_data"
    }
   ],
   "source": [
    "print(\"Number of people who took loan based on education\")\n",
    "print(dataset['Education'].value_counts())\n",
    "sns.countplot(x='Education', data=dataset, palette='Set2')"
   ]
  },
  {
   "cell_type": "markdown",
   "id": "3be0df1c",
   "metadata": {},
   "source": [
    "# Feature Engineering"
   ]
  },
  {
   "cell_type": "code",
   "execution_count": 14,
   "id": "f56e3295",
   "metadata": {},
   "outputs": [
    {
     "data": {
      "text/html": [
       "<div>\n",
       "<style scoped>\n",
       "    .dataframe tbody tr th:only-of-type {\n",
       "        vertical-align: middle;\n",
       "    }\n",
       "\n",
       "    .dataframe tbody tr th {\n",
       "        vertical-align: top;\n",
       "    }\n",
       "\n",
       "    .dataframe thead th {\n",
       "        text-align: right;\n",
       "    }\n",
       "</style>\n",
       "<table border=\"1\" class=\"dataframe\">\n",
       "  <thead>\n",
       "    <tr style=\"text-align: right;\">\n",
       "      <th></th>\n",
       "      <th>Loan_ID</th>\n",
       "      <th>Gender</th>\n",
       "      <th>Married</th>\n",
       "      <th>Dependents</th>\n",
       "      <th>Education</th>\n",
       "      <th>Self_Employed</th>\n",
       "      <th>ApplicantIncome</th>\n",
       "      <th>CoapplicantIncome</th>\n",
       "      <th>LoanAmount</th>\n",
       "      <th>Loan_Amount_Term</th>\n",
       "      <th>Credit_History</th>\n",
       "      <th>Property_Area</th>\n",
       "      <th>Loan_Status</th>\n",
       "      <th>Total_Income</th>\n",
       "    </tr>\n",
       "  </thead>\n",
       "  <tbody>\n",
       "    <tr>\n",
       "      <th>0</th>\n",
       "      <td>LP001002</td>\n",
       "      <td>Male</td>\n",
       "      <td>No</td>\n",
       "      <td>0</td>\n",
       "      <td>Graduate</td>\n",
       "      <td>No</td>\n",
       "      <td>5849</td>\n",
       "      <td>0.0</td>\n",
       "      <td>128.0</td>\n",
       "      <td>360.0</td>\n",
       "      <td>1.0</td>\n",
       "      <td>Urban</td>\n",
       "      <td>Y</td>\n",
       "      <td>5849.0</td>\n",
       "    </tr>\n",
       "    <tr>\n",
       "      <th>1</th>\n",
       "      <td>LP001003</td>\n",
       "      <td>Male</td>\n",
       "      <td>Yes</td>\n",
       "      <td>1</td>\n",
       "      <td>Graduate</td>\n",
       "      <td>No</td>\n",
       "      <td>4583</td>\n",
       "      <td>1508.0</td>\n",
       "      <td>128.0</td>\n",
       "      <td>360.0</td>\n",
       "      <td>1.0</td>\n",
       "      <td>Rural</td>\n",
       "      <td>N</td>\n",
       "      <td>6091.0</td>\n",
       "    </tr>\n",
       "    <tr>\n",
       "      <th>2</th>\n",
       "      <td>LP001005</td>\n",
       "      <td>Male</td>\n",
       "      <td>Yes</td>\n",
       "      <td>0</td>\n",
       "      <td>Graduate</td>\n",
       "      <td>Yes</td>\n",
       "      <td>3000</td>\n",
       "      <td>0.0</td>\n",
       "      <td>66.0</td>\n",
       "      <td>360.0</td>\n",
       "      <td>1.0</td>\n",
       "      <td>Urban</td>\n",
       "      <td>Y</td>\n",
       "      <td>3000.0</td>\n",
       "    </tr>\n",
       "    <tr>\n",
       "      <th>3</th>\n",
       "      <td>LP001006</td>\n",
       "      <td>Male</td>\n",
       "      <td>Yes</td>\n",
       "      <td>0</td>\n",
       "      <td>Not Graduate</td>\n",
       "      <td>No</td>\n",
       "      <td>2583</td>\n",
       "      <td>2358.0</td>\n",
       "      <td>120.0</td>\n",
       "      <td>360.0</td>\n",
       "      <td>1.0</td>\n",
       "      <td>Urban</td>\n",
       "      <td>Y</td>\n",
       "      <td>4941.0</td>\n",
       "    </tr>\n",
       "    <tr>\n",
       "      <th>4</th>\n",
       "      <td>LP001008</td>\n",
       "      <td>Male</td>\n",
       "      <td>No</td>\n",
       "      <td>0</td>\n",
       "      <td>Graduate</td>\n",
       "      <td>No</td>\n",
       "      <td>6000</td>\n",
       "      <td>0.0</td>\n",
       "      <td>141.0</td>\n",
       "      <td>360.0</td>\n",
       "      <td>1.0</td>\n",
       "      <td>Urban</td>\n",
       "      <td>Y</td>\n",
       "      <td>6000.0</td>\n",
       "    </tr>\n",
       "  </tbody>\n",
       "</table>\n",
       "</div>"
      ],
      "text/plain": [
       "    Loan_ID Gender Married Dependents     Education Self_Employed  \\\n",
       "0  LP001002   Male      No          0      Graduate            No   \n",
       "1  LP001003   Male     Yes          1      Graduate            No   \n",
       "2  LP001005   Male     Yes          0      Graduate           Yes   \n",
       "3  LP001006   Male     Yes          0  Not Graduate            No   \n",
       "4  LP001008   Male      No          0      Graduate            No   \n",
       "\n",
       "   ApplicantIncome  CoapplicantIncome  LoanAmount  Loan_Amount_Term  \\\n",
       "0             5849                0.0       128.0             360.0   \n",
       "1             4583             1508.0       128.0             360.0   \n",
       "2             3000                0.0        66.0             360.0   \n",
       "3             2583             2358.0       120.0             360.0   \n",
       "4             6000                0.0       141.0             360.0   \n",
       "\n",
       "   Credit_History Property_Area Loan_Status  Total_Income  \n",
       "0             1.0         Urban           Y        5849.0  \n",
       "1             1.0         Rural           N        6091.0  \n",
       "2             1.0         Urban           Y        3000.0  \n",
       "3             1.0         Urban           Y        4941.0  \n",
       "4             1.0         Urban           Y        6000.0  "
      ]
     },
     "execution_count": 14,
     "metadata": {},
     "output_type": "execute_result"
    }
   ],
   "source": [
    "dataset['Total_Income']=dataset['ApplicantIncome']+dataset['CoapplicantIncome']\n",
    "dataset.head()"
   ]
  },
  {
   "cell_type": "code",
   "execution_count": 15,
   "id": "6f6d7a75",
   "metadata": {},
   "outputs": [
    {
     "data": {
      "text/plain": [
       "<Axes: xlabel='Applicant_Income_Log', ylabel='Density'>"
      ]
     },
     "execution_count": 15,
     "metadata": {},
     "output_type": "execute_result"
    },
    {
     "data": {
      "image/png": "[encoded data removed]",
      "text/plain": [
       "<Figure size 640x480 with 1 Axes>"
      ]
     },
     "metadata": {},
     "output_type": "display_data"
    }
   ],
   "source": [
    "# Log Transforamation(Normalization)\n",
    "dataset['Applicant_Income_Log']=np.log(dataset['ApplicantIncome']+1)\n",
    "sns.distplot(dataset['Applicant_Income_Log'])"
   ]
  },
  {
   "cell_type": "code",
   "execution_count": 16,
   "id": "93ae2af7",
   "metadata": {},
   "outputs": [
    {
     "data": {
      "text/plain": [
       "<Axes: xlabel='Loan_Amount_Log', ylabel='Density'>"
      ]
     },
     "execution_count": 16,
     "metadata": {},
     "output_type": "execute_result"
    },
    {
     "data": {
      "image/png": "[encoded data removed]",
      "text/plain": [
       "<Figure size 640x480 with 1 Axes>"
      ]
     },
     "metadata": {},
     "output_type": "display_data"
    }
   ],
   "source": [
    "dataset['Loan_Amount_Log']=np.log(dataset['LoanAmount']+1)\n",
    "sns.distplot(dataset['Loan_Amount_Log'])"
   ]
  },
  {
   "cell_type": "code",
   "execution_count": 17,
   "id": "d188083c",
   "metadata": {},
   "outputs": [
    {
     "data": {
      "text/plain": [
       "<Axes: xlabel='Loan_Amount_Term', ylabel='Density'>"
      ]
     },
     "execution_count": 17,
     "metadata": {},
     "output_type": "execute_result"
    },
    {
     "data": {
      "image/png": "[encoded data removed]",
      "text/plain": [
       "<Figure size 640x480 with 1 Axes>"
      ]
     },
     "metadata": {},
     "output_type": "display_data"
    }
   ],
   "source": [
    "dataset['Loan_Amount_Term_Log']=np.log(dataset['Loan_Amount_Term'])+1\n",
    "sns.distplot(dataset['Loan_Amount_Term'])\n"
   ]
  },
  {
   "cell_type": "code",
   "execution_count": 18,
   "id": "74bb4d1a",
   "metadata": {},
   "outputs": [
    {
     "data": {
      "text/plain": [
       "<Axes: xlabel='Total_Income_Log', ylabel='Density'>"
      ]
     },
     "execution_count": 18,
     "metadata": {},
     "output_type": "execute_result"
    },
    {
     "data": {
      "image/png": "[encoded data removed]",
      "text/plain": [
       "<Figure size 640x480 with 1 Axes>"
      ]
     },
     "metadata": {},
     "output_type": "display_data"
    }
   ],
   "source": [
    "dataset['Total_Income_Log']=np.log(dataset['Total_Income']+1)\n",
    "sns.distplot(dataset['Total_Income_Log'])"
   ]
  },
  {
   "cell_type": "code",
   "execution_count": 19,
   "id": "5741171a",
   "metadata": {},
   "outputs": [
    {
     "data": {
      "text/plain": [
       "<Axes: xlabel='Total_Income_Log', ylabel='Density'>"
      ]
     },
     "execution_count": 19,
     "metadata": {},
     "output_type": "execute_result"
    },
    {
     "data": {
      "image/png": "[encoded data removed]",
      "text/plain": [
       "<Figure size 640x480 with 1 Axes>"
      ]
     },
     "metadata": {},
     "output_type": "display_data"
    }
   ],
   "source": [
    "dataset['Total_Income_Log']=np.log(dataset['Total_Income']+1)\n",
    "sns.distplot(dataset['Total_Income_Log'])"
   ]
  },
  {
   "cell_type": "code",
   "execution_count": 20,
   "id": "5888b163",
   "metadata": {},
   "outputs": [
    {
     "data": {
      "text/html": [
       "<div>\n",
       "<style scoped>\n",
       "    .dataframe tbody tr th:only-of-type {\n",
       "        vertical-align: middle;\n",
       "    }\n",
       "\n",
       "    .dataframe tbody tr th {\n",
       "        vertical-align: top;\n",
       "    }\n",
       "\n",
       "    .dataframe thead th {\n",
       "        text-align: right;\n",
       "    }\n",
       "</style>\n",
       "<table border=\"1\" class=\"dataframe\">\n",
       "  <thead>\n",
       "    <tr style=\"text-align: right;\">\n",
       "      <th></th>\n",
       "      <th>Loan_ID</th>\n",
       "      <th>Gender</th>\n",
       "      <th>Married</th>\n",
       "      <th>Dependents</th>\n",
       "      <th>Education</th>\n",
       "      <th>Self_Employed</th>\n",
       "      <th>ApplicantIncome</th>\n",
       "      <th>CoapplicantIncome</th>\n",
       "      <th>LoanAmount</th>\n",
       "      <th>Loan_Amount_Term</th>\n",
       "      <th>Credit_History</th>\n",
       "      <th>Property_Area</th>\n",
       "      <th>Loan_Status</th>\n",
       "      <th>Total_Income</th>\n",
       "      <th>Applicant_Income_Log</th>\n",
       "      <th>Loan_Amount_Log</th>\n",
       "      <th>Loan_Amount_Term_Log</th>\n",
       "      <th>Total_Income_Log</th>\n",
       "    </tr>\n",
       "  </thead>\n",
       "  <tbody>\n",
       "    <tr>\n",
       "      <th>0</th>\n",
       "      <td>LP001002</td>\n",
       "      <td>Male</td>\n",
       "      <td>No</td>\n",
       "      <td>0</td>\n",
       "      <td>Graduate</td>\n",
       "      <td>No</td>\n",
       "      <td>5849</td>\n",
       "      <td>0.0</td>\n",
       "      <td>128.0</td>\n",
       "      <td>360.0</td>\n",
       "      <td>1.0</td>\n",
       "      <td>Urban</td>\n",
       "      <td>Y</td>\n",
       "      <td>5849.0</td>\n",
       "      <td>8.674197</td>\n",
       "      <td>4.859812</td>\n",
       "      <td>6.886104</td>\n",
       "      <td>8.674197</td>\n",
       "    </tr>\n",
       "    <tr>\n",
       "      <th>1</th>\n",
       "      <td>LP001003</td>\n",
       "      <td>Male</td>\n",
       "      <td>Yes</td>\n",
       "      <td>1</td>\n",
       "      <td>Graduate</td>\n",
       "      <td>No</td>\n",
       "      <td>4583</td>\n",
       "      <td>1508.0</td>\n",
       "      <td>128.0</td>\n",
       "      <td>360.0</td>\n",
       "      <td>1.0</td>\n",
       "      <td>Rural</td>\n",
       "      <td>N</td>\n",
       "      <td>6091.0</td>\n",
       "      <td>8.430327</td>\n",
       "      <td>4.859812</td>\n",
       "      <td>6.886104</td>\n",
       "      <td>8.714732</td>\n",
       "    </tr>\n",
       "    <tr>\n",
       "      <th>2</th>\n",
       "      <td>LP001005</td>\n",
       "      <td>Male</td>\n",
       "      <td>Yes</td>\n",
       "      <td>0</td>\n",
       "      <td>Graduate</td>\n",
       "      <td>Yes</td>\n",
       "      <td>3000</td>\n",
       "      <td>0.0</td>\n",
       "      <td>66.0</td>\n",
       "      <td>360.0</td>\n",
       "      <td>1.0</td>\n",
       "      <td>Urban</td>\n",
       "      <td>Y</td>\n",
       "      <td>3000.0</td>\n",
       "      <td>8.006701</td>\n",
       "      <td>4.204693</td>\n",
       "      <td>6.886104</td>\n",
       "      <td>8.006701</td>\n",
       "    </tr>\n",
       "    <tr>\n",
       "      <th>3</th>\n",
       "      <td>LP001006</td>\n",
       "      <td>Male</td>\n",
       "      <td>Yes</td>\n",
       "      <td>0</td>\n",
       "      <td>Not Graduate</td>\n",
       "      <td>No</td>\n",
       "      <td>2583</td>\n",
       "      <td>2358.0</td>\n",
       "      <td>120.0</td>\n",
       "      <td>360.0</td>\n",
       "      <td>1.0</td>\n",
       "      <td>Urban</td>\n",
       "      <td>Y</td>\n",
       "      <td>4941.0</td>\n",
       "      <td>7.857094</td>\n",
       "      <td>4.795791</td>\n",
       "      <td>6.886104</td>\n",
       "      <td>8.505525</td>\n",
       "    </tr>\n",
       "    <tr>\n",
       "      <th>4</th>\n",
       "      <td>LP001008</td>\n",
       "      <td>Male</td>\n",
       "      <td>No</td>\n",
       "      <td>0</td>\n",
       "      <td>Graduate</td>\n",
       "      <td>No</td>\n",
       "      <td>6000</td>\n",
       "      <td>0.0</td>\n",
       "      <td>141.0</td>\n",
       "      <td>360.0</td>\n",
       "      <td>1.0</td>\n",
       "      <td>Urban</td>\n",
       "      <td>Y</td>\n",
       "      <td>6000.0</td>\n",
       "      <td>8.699681</td>\n",
       "      <td>4.955827</td>\n",
       "      <td>6.886104</td>\n",
       "      <td>8.699681</td>\n",
       "    </tr>\n",
       "  </tbody>\n",
       "</table>\n",
       "</div>"
      ],
      "text/plain": [
       "    Loan_ID Gender Married Dependents     Education Self_Employed  \\\n",
       "0  LP001002   Male      No          0      Graduate            No   \n",
       "1  LP001003   Male     Yes          1      Graduate            No   \n",
       "2  LP001005   Male     Yes          0      Graduate           Yes   \n",
       "3  LP001006   Male     Yes          0  Not Graduate            No   \n",
       "4  LP001008   Male      No          0      Graduate            No   \n",
       "\n",
       "   ApplicantIncome  CoapplicantIncome  LoanAmount  Loan_Amount_Term  \\\n",
       "0             5849                0.0       128.0             360.0   \n",
       "1             4583             1508.0       128.0             360.0   \n",
       "2             3000                0.0        66.0             360.0   \n",
       "3             2583             2358.0       120.0             360.0   \n",
       "4             6000                0.0       141.0             360.0   \n",
       "\n",
       "   Credit_History Property_Area Loan_Status  Total_Income  \\\n",
       "0             1.0         Urban           Y        5849.0   \n",
       "1             1.0         Rural           N        6091.0   \n",
       "2             1.0         Urban           Y        3000.0   \n",
       "3             1.0         Urban           Y        4941.0   \n",
       "4             1.0         Urban           Y        6000.0   \n",
       "\n",
       "   Applicant_Income_Log  Loan_Amount_Log  Loan_Amount_Term_Log  \\\n",
       "0              8.674197         4.859812              6.886104   \n",
       "1              8.430327         4.859812              6.886104   \n",
       "2              8.006701         4.204693              6.886104   \n",
       "3              7.857094         4.795791              6.886104   \n",
       "4              8.699681         4.955827              6.886104   \n",
       "\n",
       "   Total_Income_Log  \n",
       "0          8.674197  \n",
       "1          8.714732  \n",
       "2          8.006701  \n",
       "3          8.505525  \n",
       "4          8.699681  "
      ]
     },
     "execution_count": 20,
     "metadata": {},
     "output_type": "execute_result"
    }
   ],
   "source": [
    "dataset.head()"
   ]
  },
  {
   "cell_type": "code",
   "execution_count": 21,
   "id": "dc0538cf",
   "metadata": {},
   "outputs": [
    {
     "data": {
      "text/html": [
       "<div>\n",
       "<style scoped>\n",
       "    .dataframe tbody tr th:only-of-type {\n",
       "        vertical-align: middle;\n",
       "    }\n",
       "\n",
       "    .dataframe tbody tr th {\n",
       "        vertical-align: top;\n",
       "    }\n",
       "\n",
       "    .dataframe thead th {\n",
       "        text-align: right;\n",
       "    }\n",
       "</style>\n",
       "<table border=\"1\" class=\"dataframe\">\n",
       "  <thead>\n",
       "    <tr style=\"text-align: right;\">\n",
       "      <th></th>\n",
       "      <th>Gender</th>\n",
       "      <th>Married</th>\n",
       "      <th>Dependents</th>\n",
       "      <th>Education</th>\n",
       "      <th>Self_Employed</th>\n",
       "      <th>Credit_History</th>\n",
       "      <th>Property_Area</th>\n",
       "      <th>Loan_Status</th>\n",
       "      <th>Applicant_Income_Log</th>\n",
       "      <th>Loan_Amount_Log</th>\n",
       "      <th>Loan_Amount_Term_Log</th>\n",
       "      <th>Total_Income_Log</th>\n",
       "    </tr>\n",
       "  </thead>\n",
       "  <tbody>\n",
       "    <tr>\n",
       "      <th>0</th>\n",
       "      <td>Male</td>\n",
       "      <td>No</td>\n",
       "      <td>0</td>\n",
       "      <td>Graduate</td>\n",
       "      <td>No</td>\n",
       "      <td>1.0</td>\n",
       "      <td>Urban</td>\n",
       "      <td>Y</td>\n",
       "      <td>8.674197</td>\n",
       "      <td>4.859812</td>\n",
       "      <td>6.886104</td>\n",
       "      <td>8.674197</td>\n",
       "    </tr>\n",
       "    <tr>\n",
       "      <th>1</th>\n",
       "      <td>Male</td>\n",
       "      <td>Yes</td>\n",
       "      <td>1</td>\n",
       "      <td>Graduate</td>\n",
       "      <td>No</td>\n",
       "      <td>1.0</td>\n",
       "      <td>Rural</td>\n",
       "      <td>N</td>\n",
       "      <td>8.430327</td>\n",
       "      <td>4.859812</td>\n",
       "      <td>6.886104</td>\n",
       "      <td>8.714732</td>\n",
       "    </tr>\n",
       "    <tr>\n",
       "      <th>2</th>\n",
       "      <td>Male</td>\n",
       "      <td>Yes</td>\n",
       "      <td>0</td>\n",
       "      <td>Graduate</td>\n",
       "      <td>Yes</td>\n",
       "      <td>1.0</td>\n",
       "      <td>Urban</td>\n",
       "      <td>Y</td>\n",
       "      <td>8.006701</td>\n",
       "      <td>4.204693</td>\n",
       "      <td>6.886104</td>\n",
       "      <td>8.006701</td>\n",
       "    </tr>\n",
       "    <tr>\n",
       "      <th>3</th>\n",
       "      <td>Male</td>\n",
       "      <td>Yes</td>\n",
       "      <td>0</td>\n",
       "      <td>Not Graduate</td>\n",
       "      <td>No</td>\n",
       "      <td>1.0</td>\n",
       "      <td>Urban</td>\n",
       "      <td>Y</td>\n",
       "      <td>7.857094</td>\n",
       "      <td>4.795791</td>\n",
       "      <td>6.886104</td>\n",
       "      <td>8.505525</td>\n",
       "    </tr>\n",
       "    <tr>\n",
       "      <th>4</th>\n",
       "      <td>Male</td>\n",
       "      <td>No</td>\n",
       "      <td>0</td>\n",
       "      <td>Graduate</td>\n",
       "      <td>No</td>\n",
       "      <td>1.0</td>\n",
       "      <td>Urban</td>\n",
       "      <td>Y</td>\n",
       "      <td>8.699681</td>\n",
       "      <td>4.955827</td>\n",
       "      <td>6.886104</td>\n",
       "      <td>8.699681</td>\n",
       "    </tr>\n",
       "  </tbody>\n",
       "</table>\n",
       "</div>"
      ],
      "text/plain": [
       "  Gender Married Dependents     Education Self_Employed  Credit_History  \\\n",
       "0   Male      No          0      Graduate            No             1.0   \n",
       "1   Male     Yes          1      Graduate            No             1.0   \n",
       "2   Male     Yes          0      Graduate           Yes             1.0   \n",
       "3   Male     Yes          0  Not Graduate            No             1.0   \n",
       "4   Male      No          0      Graduate            No             1.0   \n",
       "\n",
       "  Property_Area Loan_Status  Applicant_Income_Log  Loan_Amount_Log  \\\n",
       "0         Urban           Y              8.674197         4.859812   \n",
       "1         Rural           N              8.430327         4.859812   \n",
       "2         Urban           Y              8.006701         4.204693   \n",
       "3         Urban           Y              7.857094         4.795791   \n",
       "4         Urban           Y              8.699681         4.955827   \n",
       "\n",
       "   Loan_Amount_Term_Log  Total_Income_Log  \n",
       "0              6.886104          8.674197  \n",
       "1              6.886104          8.714732  \n",
       "2              6.886104          8.006701  \n",
       "3              6.886104          8.505525  \n",
       "4              6.886104          8.699681  "
      ]
     },
     "execution_count": 21,
     "metadata": {},
     "output_type": "execute_result"
    }
   ],
   "source": [
    "# Drop unnecessary columns\n",
    "cols=['CoapplicantIncome','ApplicantIncome','LoanAmount','Loan_Amount_Term','Loan_ID','Total_Income']\n",
    "dataset=dataset.drop(columns=cols,axis=1)\n",
    "dataset.head()"
   ]
  },
  {
   "cell_type": "code",
   "execution_count": 22,
   "id": "99278617",
   "metadata": {},
   "outputs": [],
   "source": [
    "# Encoding\n",
    "from sklearn.preprocessing import LabelEncoder\n",
    "cols=['Gender','Married','Dependents','Education','Self_Employed','Property_Area','Loan_Status']\n",
    "le=LabelEncoder()\n",
    "for col in cols:\n",
    "    dataset[col]=le.fit_transform(dataset[col])"
   ]
  },
  {
   "cell_type": "code",
   "execution_count": 23,
   "id": "0e61aa2c",
   "metadata": {},
   "outputs": [
    {
     "data": {
      "text/html": [
       "<div>\n",
       "<style scoped>\n",
       "    .dataframe tbody tr th:only-of-type {\n",
       "        vertical-align: middle;\n",
       "    }\n",
       "\n",
       "    .dataframe tbody tr th {\n",
       "        vertical-align: top;\n",
       "    }\n",
       "\n",
       "    .dataframe thead th {\n",
       "        text-align: right;\n",
       "    }\n",
       "</style>\n",
       "<table border=\"1\" class=\"dataframe\">\n",
       "  <thead>\n",
       "    <tr style=\"text-align: right;\">\n",
       "      <th></th>\n",
       "      <th>Gender</th>\n",
       "      <th>Married</th>\n",
       "      <th>Dependents</th>\n",
       "      <th>Education</th>\n",
       "      <th>Self_Employed</th>\n",
       "      <th>Credit_History</th>\n",
       "      <th>Property_Area</th>\n",
       "      <th>Loan_Status</th>\n",
       "      <th>Applicant_Income_Log</th>\n",
       "      <th>Loan_Amount_Log</th>\n",
       "      <th>Loan_Amount_Term_Log</th>\n",
       "      <th>Total_Income_Log</th>\n",
       "    </tr>\n",
       "  </thead>\n",
       "  <tbody>\n",
       "    <tr>\n",
       "      <th>0</th>\n",
       "      <td>1</td>\n",
       "      <td>0</td>\n",
       "      <td>0</td>\n",
       "      <td>0</td>\n",
       "      <td>0</td>\n",
       "      <td>1.0</td>\n",
       "      <td>2</td>\n",
       "      <td>1</td>\n",
       "      <td>8.674197</td>\n",
       "      <td>4.859812</td>\n",
       "      <td>6.886104</td>\n",
       "      <td>8.674197</td>\n",
       "    </tr>\n",
       "    <tr>\n",
       "      <th>1</th>\n",
       "      <td>1</td>\n",
       "      <td>1</td>\n",
       "      <td>1</td>\n",
       "      <td>0</td>\n",
       "      <td>0</td>\n",
       "      <td>1.0</td>\n",
       "      <td>0</td>\n",
       "      <td>0</td>\n",
       "      <td>8.430327</td>\n",
       "      <td>4.859812</td>\n",
       "      <td>6.886104</td>\n",
       "      <td>8.714732</td>\n",
       "    </tr>\n",
       "    <tr>\n",
       "      <th>2</th>\n",
       "      <td>1</td>\n",
       "      <td>1</td>\n",
       "      <td>0</td>\n",
       "      <td>0</td>\n",
       "      <td>1</td>\n",
       "      <td>1.0</td>\n",
       "      <td>2</td>\n",
       "      <td>1</td>\n",
       "      <td>8.006701</td>\n",
       "      <td>4.204693</td>\n",
       "      <td>6.886104</td>\n",
       "      <td>8.006701</td>\n",
       "    </tr>\n",
       "    <tr>\n",
       "      <th>3</th>\n",
       "      <td>1</td>\n",
       "      <td>1</td>\n",
       "      <td>0</td>\n",
       "      <td>1</td>\n",
       "      <td>0</td>\n",
       "      <td>1.0</td>\n",
       "      <td>2</td>\n",
       "      <td>1</td>\n",
       "      <td>7.857094</td>\n",
       "      <td>4.795791</td>\n",
       "      <td>6.886104</td>\n",
       "      <td>8.505525</td>\n",
       "    </tr>\n",
       "    <tr>\n",
       "      <th>4</th>\n",
       "      <td>1</td>\n",
       "      <td>0</td>\n",
       "      <td>0</td>\n",
       "      <td>0</td>\n",
       "      <td>0</td>\n",
       "      <td>1.0</td>\n",
       "      <td>2</td>\n",
       "      <td>1</td>\n",
       "      <td>8.699681</td>\n",
       "      <td>4.955827</td>\n",
       "      <td>6.886104</td>\n",
       "      <td>8.699681</td>\n",
       "    </tr>\n",
       "  </tbody>\n",
       "</table>\n",
       "</div>"
      ],
      "text/plain": [
       "   Gender  Married  Dependents  Education  Self_Employed  Credit_History  \\\n",
       "0       1        0           0          0              0             1.0   \n",
       "1       1        1           1          0              0             1.0   \n",
       "2       1        1           0          0              1             1.0   \n",
       "3       1        1           0          1              0             1.0   \n",
       "4       1        0           0          0              0             1.0   \n",
       "\n",
       "   Property_Area  Loan_Status  Applicant_Income_Log  Loan_Amount_Log  \\\n",
       "0              2            1              8.674197         4.859812   \n",
       "1              0            0              8.430327         4.859812   \n",
       "2              2            1              8.006701         4.204693   \n",
       "3              2            1              7.857094         4.795791   \n",
       "4              2            1              8.699681         4.955827   \n",
       "\n",
       "   Loan_Amount_Term_Log  Total_Income_Log  \n",
       "0              6.886104          8.674197  \n",
       "1              6.886104          8.714732  \n",
       "2              6.886104          8.006701  \n",
       "3              6.886104          8.505525  \n",
       "4              6.886104          8.699681  "
      ]
     },
     "execution_count": 23,
     "metadata": {},
     "output_type": "execute_result"
    }
   ],
   "source": [
    "dataset.head()"
   ]
  },
  {
   "cell_type": "code",
   "execution_count": 24,
   "id": "99fce788",
   "metadata": {},
   "outputs": [
    {
     "data": {
      "text/plain": [
       "Gender                    int32\n",
       "Married                   int32\n",
       "Dependents                int32\n",
       "Education                 int32\n",
       "Self_Employed             int32\n",
       "Credit_History          float64\n",
       "Property_Area             int32\n",
       "Loan_Status               int32\n",
       "Applicant_Income_Log    float64\n",
       "Loan_Amount_Log         float64\n",
       "Loan_Amount_Term_Log    float64\n",
       "Total_Income_Log        float64\n",
       "dtype: object"
      ]
     },
     "execution_count": 24,
     "metadata": {},
     "output_type": "execute_result"
    }
   ],
   "source": [
    "dataset.dtypes"
   ]
  },
  {
   "cell_type": "code",
   "execution_count": 25,
   "id": "4203c31d",
   "metadata": {},
   "outputs": [],
   "source": [
    "# Splitting Dependent and Independent features\n",
    "x=dataset.drop(columns=['Loan_Status'],axis=1)\n",
    "y=dataset['Loan_Status']"
   ]
  },
  {
   "cell_type": "code",
   "execution_count": 26,
   "id": "a8ac082b",
   "metadata": {},
   "outputs": [
    {
     "data": {
      "text/html": [
       "<div>\n",
       "<style scoped>\n",
       "    .dataframe tbody tr th:only-of-type {\n",
       "        vertical-align: middle;\n",
       "    }\n",
       "\n",
       "    .dataframe tbody tr th {\n",
       "        vertical-align: top;\n",
       "    }\n",
       "\n",
       "    .dataframe thead th {\n",
       "        text-align: right;\n",
       "    }\n",
       "</style>\n",
       "<table border=\"1\" class=\"dataframe\">\n",
       "  <thead>\n",
       "    <tr style=\"text-align: right;\">\n",
       "      <th></th>\n",
       "      <th>Gender</th>\n",
       "      <th>Married</th>\n",
       "      <th>Dependents</th>\n",
       "      <th>Education</th>\n",
       "      <th>Self_Employed</th>\n",
       "      <th>Credit_History</th>\n",
       "      <th>Property_Area</th>\n",
       "      <th>Applicant_Income_Log</th>\n",
       "      <th>Loan_Amount_Log</th>\n",
       "      <th>Loan_Amount_Term_Log</th>\n",
       "      <th>Total_Income_Log</th>\n",
       "    </tr>\n",
       "  </thead>\n",
       "  <tbody>\n",
       "    <tr>\n",
       "      <th>0</th>\n",
       "      <td>1</td>\n",
       "      <td>0</td>\n",
       "      <td>0</td>\n",
       "      <td>0</td>\n",
       "      <td>0</td>\n",
       "      <td>1.0</td>\n",
       "      <td>2</td>\n",
       "      <td>8.674197</td>\n",
       "      <td>4.859812</td>\n",
       "      <td>6.886104</td>\n",
       "      <td>8.674197</td>\n",
       "    </tr>\n",
       "    <tr>\n",
       "      <th>1</th>\n",
       "      <td>1</td>\n",
       "      <td>1</td>\n",
       "      <td>1</td>\n",
       "      <td>0</td>\n",
       "      <td>0</td>\n",
       "      <td>1.0</td>\n",
       "      <td>0</td>\n",
       "      <td>8.430327</td>\n",
       "      <td>4.859812</td>\n",
       "      <td>6.886104</td>\n",
       "      <td>8.714732</td>\n",
       "    </tr>\n",
       "    <tr>\n",
       "      <th>2</th>\n",
       "      <td>1</td>\n",
       "      <td>1</td>\n",
       "      <td>0</td>\n",
       "      <td>0</td>\n",
       "      <td>1</td>\n",
       "      <td>1.0</td>\n",
       "      <td>2</td>\n",
       "      <td>8.006701</td>\n",
       "      <td>4.204693</td>\n",
       "      <td>6.886104</td>\n",
       "      <td>8.006701</td>\n",
       "    </tr>\n",
       "    <tr>\n",
       "      <th>3</th>\n",
       "      <td>1</td>\n",
       "      <td>1</td>\n",
       "      <td>0</td>\n",
       "      <td>1</td>\n",
       "      <td>0</td>\n",
       "      <td>1.0</td>\n",
       "      <td>2</td>\n",
       "      <td>7.857094</td>\n",
       "      <td>4.795791</td>\n",
       "      <td>6.886104</td>\n",
       "      <td>8.505525</td>\n",
       "    </tr>\n",
       "    <tr>\n",
       "      <th>4</th>\n",
       "      <td>1</td>\n",
       "      <td>0</td>\n",
       "      <td>0</td>\n",
       "      <td>0</td>\n",
       "      <td>0</td>\n",
       "      <td>1.0</td>\n",
       "      <td>2</td>\n",
       "      <td>8.699681</td>\n",
       "      <td>4.955827</td>\n",
       "      <td>6.886104</td>\n",
       "      <td>8.699681</td>\n",
       "    </tr>\n",
       "    <tr>\n",
       "      <th>...</th>\n",
       "      <td>...</td>\n",
       "      <td>...</td>\n",
       "      <td>...</td>\n",
       "      <td>...</td>\n",
       "      <td>...</td>\n",
       "      <td>...</td>\n",
       "      <td>...</td>\n",
       "      <td>...</td>\n",
       "      <td>...</td>\n",
       "      <td>...</td>\n",
       "      <td>...</td>\n",
       "    </tr>\n",
       "    <tr>\n",
       "      <th>609</th>\n",
       "      <td>0</td>\n",
       "      <td>0</td>\n",
       "      <td>0</td>\n",
       "      <td>0</td>\n",
       "      <td>0</td>\n",
       "      <td>1.0</td>\n",
       "      <td>0</td>\n",
       "      <td>7.972811</td>\n",
       "      <td>4.276666</td>\n",
       "      <td>6.886104</td>\n",
       "      <td>7.972811</td>\n",
       "    </tr>\n",
       "    <tr>\n",
       "      <th>610</th>\n",
       "      <td>1</td>\n",
       "      <td>1</td>\n",
       "      <td>3</td>\n",
       "      <td>0</td>\n",
       "      <td>0</td>\n",
       "      <td>1.0</td>\n",
       "      <td>0</td>\n",
       "      <td>8.320448</td>\n",
       "      <td>3.713572</td>\n",
       "      <td>6.192957</td>\n",
       "      <td>8.320448</td>\n",
       "    </tr>\n",
       "    <tr>\n",
       "      <th>611</th>\n",
       "      <td>1</td>\n",
       "      <td>1</td>\n",
       "      <td>1</td>\n",
       "      <td>0</td>\n",
       "      <td>0</td>\n",
       "      <td>1.0</td>\n",
       "      <td>2</td>\n",
       "      <td>8.996280</td>\n",
       "      <td>5.537334</td>\n",
       "      <td>6.886104</td>\n",
       "      <td>9.025576</td>\n",
       "    </tr>\n",
       "    <tr>\n",
       "      <th>612</th>\n",
       "      <td>1</td>\n",
       "      <td>1</td>\n",
       "      <td>2</td>\n",
       "      <td>0</td>\n",
       "      <td>0</td>\n",
       "      <td>1.0</td>\n",
       "      <td>2</td>\n",
       "      <td>8.933796</td>\n",
       "      <td>5.236442</td>\n",
       "      <td>6.886104</td>\n",
       "      <td>8.933796</td>\n",
       "    </tr>\n",
       "    <tr>\n",
       "      <th>613</th>\n",
       "      <td>0</td>\n",
       "      <td>0</td>\n",
       "      <td>0</td>\n",
       "      <td>0</td>\n",
       "      <td>1</td>\n",
       "      <td>0.0</td>\n",
       "      <td>1</td>\n",
       "      <td>8.430327</td>\n",
       "      <td>4.897840</td>\n",
       "      <td>6.886104</td>\n",
       "      <td>8.430327</td>\n",
       "    </tr>\n",
       "  </tbody>\n",
       "</table>\n",
       "<p>614 rows × 11 columns</p>\n",
       "</div>"
      ],
      "text/plain": [
       "     Gender  Married  Dependents  Education  Self_Employed  Credit_History  \\\n",
       "0         1        0           0          0              0             1.0   \n",
       "1         1        1           1          0              0             1.0   \n",
       "2         1        1           0          0              1             1.0   \n",
       "3         1        1           0          1              0             1.0   \n",
       "4         1        0           0          0              0             1.0   \n",
       "..      ...      ...         ...        ...            ...             ...   \n",
       "609       0        0           0          0              0             1.0   \n",
       "610       1        1           3          0              0             1.0   \n",
       "611       1        1           1          0              0             1.0   \n",
       "612       1        1           2          0              0             1.0   \n",
       "613       0        0           0          0              1             0.0   \n",
       "\n",
       "     Property_Area  Applicant_Income_Log  Loan_Amount_Log  \\\n",
       "0                2              8.674197         4.859812   \n",
       "1                0              8.430327         4.859812   \n",
       "2                2              8.006701         4.204693   \n",
       "3                2              7.857094         4.795791   \n",
       "4                2              8.699681         4.955827   \n",
       "..             ...                   ...              ...   \n",
       "609              0              7.972811         4.276666   \n",
       "610              0              8.320448         3.713572   \n",
       "611              2              8.996280         5.537334   \n",
       "612              2              8.933796         5.236442   \n",
       "613              1              8.430327         4.897840   \n",
       "\n",
       "     Loan_Amount_Term_Log  Total_Income_Log  \n",
       "0                6.886104          8.674197  \n",
       "1                6.886104          8.714732  \n",
       "2                6.886104          8.006701  \n",
       "3                6.886104          8.505525  \n",
       "4                6.886104          8.699681  \n",
       "..                    ...               ...  \n",
       "609              6.886104          7.972811  \n",
       "610              6.192957          8.320448  \n",
       "611              6.886104          9.025576  \n",
       "612              6.886104          8.933796  \n",
       "613              6.886104          8.430327  \n",
       "\n",
       "[614 rows x 11 columns]"
      ]
     },
     "execution_count": 26,
     "metadata": {},
     "output_type": "execute_result"
    }
   ],
   "source": [
    "x"
   ]
  },
  {
   "cell_type": "code",
   "execution_count": 27,
   "id": "842a4703",
   "metadata": {},
   "outputs": [
    {
     "data": {
      "text/plain": [
       "0      1\n",
       "1      0\n",
       "2      1\n",
       "3      1\n",
       "4      1\n",
       "      ..\n",
       "609    1\n",
       "610    1\n",
       "611    1\n",
       "612    1\n",
       "613    0\n",
       "Name: Loan_Status, Length: 614, dtype: int32"
      ]
     },
     "execution_count": 27,
     "metadata": {},
     "output_type": "execute_result"
    }
   ],
   "source": [
    "y"
   ]
  },
  {
   "cell_type": "markdown",
   "id": "c43dd49b",
   "metadata": {},
   "source": [
    "# Training the Model"
   ]
  },
  {
   "cell_type": "code",
   "execution_count": 28,
   "id": "43701a4d",
   "metadata": {},
   "outputs": [],
   "source": [
    "from sklearn.model_selection import train_test_split, cross_val_score\n",
    "from sklearn.metrics import accuracy_score, confusion_matrix\n",
    "from sklearn.linear_model import LogisticRegression \n",
    "from sklearn.tree import DecisionTreeClassifier\n",
    "from sklearn.ensemble import RandomForestClassifier\n",
    "from sklearn.neighbors import KNeighborsClassifier"
   ]
  },
  {
   "cell_type": "code",
   "execution_count": 29,
   "id": "5df86978",
   "metadata": {},
   "outputs": [],
   "source": [
    "x_train,x_test,y_train,y_test= train_test_split(x,y,test_size=0.25,random_state=42)"
   ]
  },
  {
   "cell_type": "code",
   "execution_count": 53,
   "id": "4e2f512c",
   "metadata": {},
   "outputs": [],
   "source": [
    "## Logistic Regression\n",
    "model1= LogisticRegression()\n",
    "model1.fit(x_train,y_train)\n",
    "y_pred_model1= model1.predict(x_test)\n",
    "accuracy= accuracy_score(y_test,y_pred_model1)"
   ]
  },
  {
   "cell_type": "code",
   "execution_count": 54,
   "id": "9bdd3cba",
   "metadata": {},
   "outputs": [
    {
     "data": {
      "text/plain": [
       "77.27272727272727"
      ]
     },
     "execution_count": 54,
     "metadata": {},
     "output_type": "execute_result"
    }
   ],
   "source": [
    "accuracy*100"
   ]
  },
  {
   "cell_type": "code",
   "execution_count": 55,
   "id": "8cd05174",
   "metadata": {},
   "outputs": [
    {
     "data": {
      "text/plain": [
       "array([0.81300813, 0.7804878 , 0.7804878 , 0.85365854, 0.81967213])"
      ]
     },
     "execution_count": 55,
     "metadata": {},
     "output_type": "execute_result"
    }
   ],
   "source": [
    "score= cross_val_score(model1,x,y,cv=5)\n",
    "score"
   ]
  },
  {
   "cell_type": "code",
   "execution_count": 56,
   "id": "2f3fcb01",
   "metadata": {},
   "outputs": [
    {
     "name": "stdout",
     "output_type": "stream",
     "text": [
      "Accuracy Score of Decision Tree Model 70.77922077922078\n"
     ]
    }
   ],
   "source": [
    "# Decision Tree Classifier\n",
    "model2=DecisionTreeClassifier()\n",
    "model2.fit(x_train,y_train)\n",
    "y_pred_model2=model2.predict(x_test)\n",
    "accuracy=accuracy_score(y_pred_model2,y_test)\n",
    "print('Accuracy Score of Decision Tree Model',accuracy*100)"
   ]
  },
  {
   "cell_type": "code",
   "execution_count": 57,
   "id": "97d07331",
   "metadata": {},
   "outputs": [
    {
     "name": "stdout",
     "output_type": "stream",
     "text": [
      "Cross validation score for decision tree: 70.03465280554447\n"
     ]
    }
   ],
   "source": [
    "# Cross Validation score for Decision Tree Model\n",
    "score= cross_val_score(model2,x,y,cv=5)\n",
    "print('Cross validation score for decision tree:', np.mean(score)*100)"
   ]
  },
  {
   "cell_type": "code",
   "execution_count": 58,
   "id": "b20075f7",
   "metadata": {},
   "outputs": [
    {
     "name": "stdout",
     "output_type": "stream",
     "text": [
      "Accuracy score of random forest classifier is: 77.92207792207793\n"
     ]
    }
   ],
   "source": [
    "## Random Forest Classifier\n",
    "model3= RandomForestClassifier()\n",
    "model3.fit(x_train,y_train)\n",
    "y_pred_model3=model3.predict(x_test)\n",
    "accuracy=accuracy_score(y_test,y_pred_model3)\n",
    "print('Accuracy score of random forest classifier is:', accuracy*100)\n",
    "# Cross validation is not checked for Random Forest Classifier"
   ]
  },
  {
   "cell_type": "code",
   "execution_count": 60,
   "id": "a1b7486a",
   "metadata": {},
   "outputs": [
    {
     "name": "stdout",
     "output_type": "stream",
     "text": [
      "Accuracy Score of K Neighbor Classifier is: 71.42857142857143\n"
     ]
    }
   ],
   "source": [
    "## K neighbor Classifier\n",
    "model4=KNeighborsClassifier(n_neighbors=3)\n",
    "model4.fit(x_train,y_train)\n",
    "y_pred_model4=model4.predict(x_test)\n",
    "accuracy=accuracy_score(y_pred_model4,y_test)\n",
    "print('Accuracy Score of K Neighbor Classifier is:', accuracy*100)"
   ]
  },
  {
   "cell_type": "code",
   "execution_count": 61,
   "id": "5168e2b7",
   "metadata": {},
   "outputs": [
    {
     "name": "stdout",
     "output_type": "stream",
     "text": [
      "cross validation score of K neighbor is: 73.61721977875517\n"
     ]
    }
   ],
   "source": [
    "score=cross_val_score(model4,x,y,cv=5)\n",
    "print('cross validation score of K neighbor is:', np.mean(score)*100)"
   ]
  },
  {
   "cell_type": "code",
   "execution_count": null,
   "id": "61151ab1",
   "metadata": {},
   "outputs": [],
   "source": [
    "# Logistic Regression is giving a good accuracy score"
   ]
  },
  {
   "cell_type": "code",
   "execution_count": 63,
   "id": "35c7cd47",
   "metadata": {},
   "outputs": [
    {
     "name": "stdout",
     "output_type": "stream",
     "text": [
      "Classification Report for: LogisticRegression():\n",
      "              precision    recall  f1-score   support\n",
      "\n",
      "           0       0.91      0.39      0.55        54\n",
      "           1       0.75      0.98      0.85       100\n",
      "\n",
      "    accuracy                           0.77       154\n",
      "   macro avg       0.83      0.68      0.70       154\n",
      "weighted avg       0.81      0.77      0.74       154\n",
      "\n",
      "Classification Report for: DecisionTreeClassifier():\n",
      "              precision    recall  f1-score   support\n",
      "\n",
      "           0       0.60      0.48      0.54        54\n",
      "           1       0.75      0.83      0.79       100\n",
      "\n",
      "    accuracy                           0.71       154\n",
      "   macro avg       0.68      0.66      0.66       154\n",
      "weighted avg       0.70      0.71      0.70       154\n",
      "\n",
      "Classification Report for: RandomForestClassifier():\n",
      "              precision    recall  f1-score   support\n",
      "\n",
      "           0       0.88      0.43      0.57        54\n",
      "           1       0.76      0.97      0.85       100\n",
      "\n",
      "    accuracy                           0.78       154\n",
      "   macro avg       0.82      0.70      0.71       154\n",
      "weighted avg       0.80      0.78      0.75       154\n",
      "\n",
      "Classification Report for: KNeighborsClassifier(n_neighbors=3):\n",
      "              precision    recall  f1-score   support\n",
      "\n",
      "           0       0.63      0.44      0.52        54\n",
      "           1       0.74      0.86      0.80       100\n",
      "\n",
      "    accuracy                           0.71       154\n",
      "   macro avg       0.69      0.65      0.66       154\n",
      "weighted avg       0.70      0.71      0.70       154\n",
      "\n"
     ]
    }
   ],
   "source": [
    "# Checking Precision recall and accuracy \n",
    "from sklearn.metrics import classification_report\n",
    "def generate_classification_report(model_name,y_test,y_pred):\n",
    "    report=classification_report(y_test,y_pred)\n",
    "    print(f'Classification Report for: {model_name}:\\n{report}')\n",
    "generate_classification_report(model1,y_test,y_pred_model1)\n",
    "generate_classification_report(model2,y_test,y_pred_model2)\n",
    "generate_classification_report(model3,y_test,y_pred_model3)\n",
    "generate_classification_report(model4,y_test,y_pred_model4)"
   ]
  },
  {
   "cell_type": "code",
   "execution_count": null,
   "id": "40efb8b9",
   "metadata": {},
   "outputs": [],
   "source": [
    "# From this analysis since the values have a lot difference then there must be overfitting of dataset "
   ]
  },
  {
   "cell_type": "code",
   "execution_count": 64,
   "id": "293606d4",
   "metadata": {},
   "outputs": [
    {
     "data": {
      "text/plain": [
       "Loan_Status\n",
       "1    422\n",
       "0    192\n",
       "Name: count, dtype: int64"
      ]
     },
     "execution_count": 64,
     "metadata": {},
     "output_type": "execute_result"
    }
   ],
   "source": [
    "dataset['Loan_Status'].value_counts()"
   ]
  },
  {
   "cell_type": "markdown",
   "id": "e16c6830",
   "metadata": {},
   "source": [
    "# Balancing the Dataset"
   ]
  },
  {
   "cell_type": "code",
   "execution_count": 65,
   "id": "62498399",
   "metadata": {},
   "outputs": [
    {
     "name": "stdout",
     "output_type": "stream",
     "text": [
      "Collecting uNote: you may need to restart the kernel to use updated packages.\n",
      "\n",
      "  Downloading u-0.1-py3-none-any.whl (11 kB)\n",
      "Collecting imbalanced-learn\n",
      "  Downloading imbalanced_learn-0.12.3-py3-none-any.whl (258 kB)\n",
      "                                              0.0/258.3 kB ? eta -:--:--\n",
      "     ----------------                       112.6/258.3 kB 3.3 MB/s eta 0:00:01\n",
      "     ----------------                       112.6/258.3 kB 3.3 MB/s eta 0:00:01\n",
      "     -------------------------------------- 258.3/258.3 kB 1.8 MB/s eta 0:00:00\n",
      "Requirement already satisfied: typing-extensions in c:\\users\\hp\\miniconda3\\lib\\site-packages (from u) (4.7.1)\n",
      "Requirement already satisfied: numpy>=1.17.3 in c:\\users\\hp\\miniconda3\\lib\\site-packages (from imbalanced-learn) (1.25.2)\n",
      "Requirement already satisfied: scipy>=1.5.0 in c:\\users\\hp\\miniconda3\\lib\\site-packages (from imbalanced-learn) (1.11.3)\n",
      "Requirement already satisfied: scikit-learn>=1.0.2 in c:\\users\\hp\\miniconda3\\lib\\site-packages (from imbalanced-learn) (1.3.2)\n",
      "Requirement already satisfied: joblib>=1.1.1 in c:\\users\\hp\\miniconda3\\lib\\site-packages (from imbalanced-learn) (1.3.2)\n",
      "Requirement already satisfied: threadpoolctl>=2.0.0 in c:\\users\\hp\\miniconda3\\lib\\site-packages (from imbalanced-learn) (3.2.0)\n",
      "Installing collected packages: u, imbalanced-learn\n",
      "Successfully installed imbalanced-learn-0.12.3 u-0.1\n"
     ]
    }
   ],
   "source": [
    "pip install u imbalanced-learn"
   ]
  },
  {
   "cell_type": "code",
   "execution_count": 67,
   "id": "bf7821b6",
   "metadata": {},
   "outputs": [],
   "source": [
    "from imblearn.over_sampling import RandomOverSampler"
   ]
  },
  {
   "cell_type": "code",
   "execution_count": 69,
   "id": "f6b58535",
   "metadata": {},
   "outputs": [],
   "source": [
    "oversample=RandomOverSampler(random_state=42)\n",
    "x_resampled,y_resampled= oversample.fit_resample(x,y)\n",
    "dataset_resampled=pd.concat([pd.DataFrame(x_resampled,columns=x.columns),pd.Series(y_resampled,name='Loan_Status')],axis=1)"
   ]
  },
  {
   "cell_type": "code",
   "execution_count": 70,
   "id": "97cd69f0",
   "metadata": {},
   "outputs": [
    {
     "data": {
      "text/html": [
       "<div>\n",
       "<style scoped>\n",
       "    .dataframe tbody tr th:only-of-type {\n",
       "        vertical-align: middle;\n",
       "    }\n",
       "\n",
       "    .dataframe tbody tr th {\n",
       "        vertical-align: top;\n",
       "    }\n",
       "\n",
       "    .dataframe thead th {\n",
       "        text-align: right;\n",
       "    }\n",
       "</style>\n",
       "<table border=\"1\" class=\"dataframe\">\n",
       "  <thead>\n",
       "    <tr style=\"text-align: right;\">\n",
       "      <th></th>\n",
       "      <th>Gender</th>\n",
       "      <th>Married</th>\n",
       "      <th>Dependents</th>\n",
       "      <th>Education</th>\n",
       "      <th>Self_Employed</th>\n",
       "      <th>Credit_History</th>\n",
       "      <th>Property_Area</th>\n",
       "      <th>Applicant_Income_Log</th>\n",
       "      <th>Loan_Amount_Log</th>\n",
       "      <th>Loan_Amount_Term_Log</th>\n",
       "      <th>Total_Income_Log</th>\n",
       "    </tr>\n",
       "  </thead>\n",
       "  <tbody>\n",
       "    <tr>\n",
       "      <th>0</th>\n",
       "      <td>1</td>\n",
       "      <td>0</td>\n",
       "      <td>0</td>\n",
       "      <td>0</td>\n",
       "      <td>0</td>\n",
       "      <td>1.000000</td>\n",
       "      <td>2</td>\n",
       "      <td>8.674197</td>\n",
       "      <td>4.859812</td>\n",
       "      <td>6.886104</td>\n",
       "      <td>8.674197</td>\n",
       "    </tr>\n",
       "    <tr>\n",
       "      <th>1</th>\n",
       "      <td>1</td>\n",
       "      <td>1</td>\n",
       "      <td>1</td>\n",
       "      <td>0</td>\n",
       "      <td>0</td>\n",
       "      <td>1.000000</td>\n",
       "      <td>0</td>\n",
       "      <td>8.430327</td>\n",
       "      <td>4.859812</td>\n",
       "      <td>6.886104</td>\n",
       "      <td>8.714732</td>\n",
       "    </tr>\n",
       "    <tr>\n",
       "      <th>2</th>\n",
       "      <td>1</td>\n",
       "      <td>1</td>\n",
       "      <td>0</td>\n",
       "      <td>0</td>\n",
       "      <td>1</td>\n",
       "      <td>1.000000</td>\n",
       "      <td>2</td>\n",
       "      <td>8.006701</td>\n",
       "      <td>4.204693</td>\n",
       "      <td>6.886104</td>\n",
       "      <td>8.006701</td>\n",
       "    </tr>\n",
       "    <tr>\n",
       "      <th>3</th>\n",
       "      <td>1</td>\n",
       "      <td>1</td>\n",
       "      <td>0</td>\n",
       "      <td>1</td>\n",
       "      <td>0</td>\n",
       "      <td>1.000000</td>\n",
       "      <td>2</td>\n",
       "      <td>7.857094</td>\n",
       "      <td>4.795791</td>\n",
       "      <td>6.886104</td>\n",
       "      <td>8.505525</td>\n",
       "    </tr>\n",
       "    <tr>\n",
       "      <th>4</th>\n",
       "      <td>1</td>\n",
       "      <td>0</td>\n",
       "      <td>0</td>\n",
       "      <td>0</td>\n",
       "      <td>0</td>\n",
       "      <td>1.000000</td>\n",
       "      <td>2</td>\n",
       "      <td>8.699681</td>\n",
       "      <td>4.955827</td>\n",
       "      <td>6.886104</td>\n",
       "      <td>8.699681</td>\n",
       "    </tr>\n",
       "    <tr>\n",
       "      <th>...</th>\n",
       "      <td>...</td>\n",
       "      <td>...</td>\n",
       "      <td>...</td>\n",
       "      <td>...</td>\n",
       "      <td>...</td>\n",
       "      <td>...</td>\n",
       "      <td>...</td>\n",
       "      <td>...</td>\n",
       "      <td>...</td>\n",
       "      <td>...</td>\n",
       "      <td>...</td>\n",
       "    </tr>\n",
       "    <tr>\n",
       "      <th>839</th>\n",
       "      <td>1</td>\n",
       "      <td>1</td>\n",
       "      <td>3</td>\n",
       "      <td>1</td>\n",
       "      <td>0</td>\n",
       "      <td>1.000000</td>\n",
       "      <td>2</td>\n",
       "      <td>8.292298</td>\n",
       "      <td>4.859812</td>\n",
       "      <td>6.192957</td>\n",
       "      <td>8.292298</td>\n",
       "    </tr>\n",
       "    <tr>\n",
       "      <th>840</th>\n",
       "      <td>1</td>\n",
       "      <td>1</td>\n",
       "      <td>1</td>\n",
       "      <td>0</td>\n",
       "      <td>0</td>\n",
       "      <td>0.842199</td>\n",
       "      <td>0</td>\n",
       "      <td>7.539559</td>\n",
       "      <td>4.127134</td>\n",
       "      <td>6.886104</td>\n",
       "      <td>7.539559</td>\n",
       "    </tr>\n",
       "    <tr>\n",
       "      <th>841</th>\n",
       "      <td>1</td>\n",
       "      <td>1</td>\n",
       "      <td>1</td>\n",
       "      <td>0</td>\n",
       "      <td>0</td>\n",
       "      <td>0.000000</td>\n",
       "      <td>0</td>\n",
       "      <td>7.933080</td>\n",
       "      <td>4.990433</td>\n",
       "      <td>6.886104</td>\n",
       "      <td>8.456381</td>\n",
       "    </tr>\n",
       "    <tr>\n",
       "      <th>842</th>\n",
       "      <td>1</td>\n",
       "      <td>1</td>\n",
       "      <td>2</td>\n",
       "      <td>1</td>\n",
       "      <td>0</td>\n",
       "      <td>0.000000</td>\n",
       "      <td>2</td>\n",
       "      <td>7.969012</td>\n",
       "      <td>3.828641</td>\n",
       "      <td>6.192957</td>\n",
       "      <td>7.969012</td>\n",
       "    </tr>\n",
       "    <tr>\n",
       "      <th>843</th>\n",
       "      <td>1</td>\n",
       "      <td>0</td>\n",
       "      <td>0</td>\n",
       "      <td>0</td>\n",
       "      <td>0</td>\n",
       "      <td>0.000000</td>\n",
       "      <td>1</td>\n",
       "      <td>8.334952</td>\n",
       "      <td>4.595120</td>\n",
       "      <td>6.886104</td>\n",
       "      <td>8.334952</td>\n",
       "    </tr>\n",
       "  </tbody>\n",
       "</table>\n",
       "<p>844 rows × 11 columns</p>\n",
       "</div>"
      ],
      "text/plain": [
       "     Gender  Married  Dependents  Education  Self_Employed  Credit_History  \\\n",
       "0         1        0           0          0              0        1.000000   \n",
       "1         1        1           1          0              0        1.000000   \n",
       "2         1        1           0          0              1        1.000000   \n",
       "3         1        1           0          1              0        1.000000   \n",
       "4         1        0           0          0              0        1.000000   \n",
       "..      ...      ...         ...        ...            ...             ...   \n",
       "839       1        1           3          1              0        1.000000   \n",
       "840       1        1           1          0              0        0.842199   \n",
       "841       1        1           1          0              0        0.000000   \n",
       "842       1        1           2          1              0        0.000000   \n",
       "843       1        0           0          0              0        0.000000   \n",
       "\n",
       "     Property_Area  Applicant_Income_Log  Loan_Amount_Log  \\\n",
       "0                2              8.674197         4.859812   \n",
       "1                0              8.430327         4.859812   \n",
       "2                2              8.006701         4.204693   \n",
       "3                2              7.857094         4.795791   \n",
       "4                2              8.699681         4.955827   \n",
       "..             ...                   ...              ...   \n",
       "839              2              8.292298         4.859812   \n",
       "840              0              7.539559         4.127134   \n",
       "841              0              7.933080         4.990433   \n",
       "842              2              7.969012         3.828641   \n",
       "843              1              8.334952         4.595120   \n",
       "\n",
       "     Loan_Amount_Term_Log  Total_Income_Log  \n",
       "0                6.886104          8.674197  \n",
       "1                6.886104          8.714732  \n",
       "2                6.886104          8.006701  \n",
       "3                6.886104          8.505525  \n",
       "4                6.886104          8.699681  \n",
       "..                    ...               ...  \n",
       "839              6.192957          8.292298  \n",
       "840              6.886104          7.539559  \n",
       "841              6.886104          8.456381  \n",
       "842              6.192957          7.969012  \n",
       "843              6.886104          8.334952  \n",
       "\n",
       "[844 rows x 11 columns]"
      ]
     },
     "execution_count": 70,
     "metadata": {},
     "output_type": "execute_result"
    }
   ],
   "source": [
    "x_resampled"
   ]
  },
  {
   "cell_type": "code",
   "execution_count": 71,
   "id": "b76ff061",
   "metadata": {},
   "outputs": [
    {
     "data": {
      "text/plain": [
       "0      1\n",
       "1      0\n",
       "2      1\n",
       "3      1\n",
       "4      1\n",
       "      ..\n",
       "839    0\n",
       "840    0\n",
       "841    0\n",
       "842    0\n",
       "843    0\n",
       "Name: Loan_Status, Length: 844, dtype: int32"
      ]
     },
     "execution_count": 71,
     "metadata": {},
     "output_type": "execute_result"
    }
   ],
   "source": [
    "y_resampled"
   ]
  },
  {
   "cell_type": "code",
   "execution_count": 72,
   "id": "914558b6",
   "metadata": {},
   "outputs": [
    {
     "data": {
      "text/plain": [
       "Loan_Status\n",
       "1    422\n",
       "0    422\n",
       "Name: count, dtype: int64"
      ]
     },
     "execution_count": 72,
     "metadata": {},
     "output_type": "execute_result"
    }
   ],
   "source": [
    "y_resampled.value_counts()"
   ]
  },
  {
   "cell_type": "code",
   "execution_count": 74,
   "id": "0bb7b7ef",
   "metadata": {},
   "outputs": [],
   "source": [
    "x_resampled_train,x_resampled_test,y_resampled_train,y_resampled_test=train_test_split(x_resampled,y_resampled,test_size=0.25,random_state=42)"
   ]
  },
  {
   "cell_type": "code",
   "execution_count": 78,
   "id": "7b3e68d9",
   "metadata": {},
   "outputs": [
    {
     "data": {
      "text/plain": [
       "69.66824644549763"
      ]
     },
     "execution_count": 78,
     "metadata": {},
     "output_type": "execute_result"
    }
   ],
   "source": [
    "## Logistic Regression\n",
    "model1= LogisticRegression()\n",
    "model1.fit(x_resampled_train,y_resampled_train)\n",
    "y_pred_model1= model1.predict(x_resampled_test)\n",
    "accuracy= accuracy_score(y_resampled_test,y_pred_model1)\n",
    "accuracy*100"
   ]
  },
  {
   "cell_type": "code",
   "execution_count": 79,
   "id": "7cba01fc",
   "metadata": {},
   "outputs": [
    {
     "name": "stdout",
     "output_type": "stream",
     "text": [
      "Accuracy Score of Decision Tree Model 80.56872037914692\n"
     ]
    }
   ],
   "source": [
    "# Decision Tree Classifier\n",
    "model2=DecisionTreeClassifier()\n",
    "model2.fit(x_resampled_train,y_resampled_train)\n",
    "y_pred_model2=model2.predict(x_resampled_test)\n",
    "accuracy=accuracy_score(y_pred_model2,y_resampled_test)\n",
    "print('Accuracy Score of Decision Tree Model',accuracy*100)"
   ]
  },
  {
   "cell_type": "code",
   "execution_count": 81,
   "id": "9d25e677",
   "metadata": {},
   "outputs": [
    {
     "name": "stdout",
     "output_type": "stream",
     "text": [
      "Accuracy score of random forest classifier is: 88.15165876777252\n"
     ]
    }
   ],
   "source": [
    "## Random Forest Classifier\n",
    "model3= RandomForestClassifier()\n",
    "model3.fit(x_resampled_train,y_resampled_train)\n",
    "y_pred_model3=model3.predict(x_resampled_test)\n",
    "accuracy=accuracy_score(y_resampled_test,y_pred_model3)\n",
    "print('Accuracy score of random forest classifier is:', accuracy*100)\n",
    "# Cross validation is not checked for Random Forest Classifier"
   ]
  },
  {
   "cell_type": "code",
   "execution_count": 82,
   "id": "f2a574b5",
   "metadata": {},
   "outputs": [
    {
     "name": "stdout",
     "output_type": "stream",
     "text": [
      "Accuracy Score of K Neighbor Classifier is: 72.51184834123224\n"
     ]
    }
   ],
   "source": [
    "## K neighbor Classifier\n",
    "model4=KNeighborsClassifier(n_neighbors=3)\n",
    "model4.fit(x_resampled_train,y_resampled_train)\n",
    "y_pred_model4=model4.predict(x_resampled_test)\n",
    "accuracy=accuracy_score(y_pred_model4,y_resampled_test)\n",
    "print('Accuracy Score of K Neighbor Classifier is:', accuracy*100)"
   ]
  },
  {
   "cell_type": "code",
   "execution_count": 84,
   "id": "30383374",
   "metadata": {},
   "outputs": [
    {
     "name": "stdout",
     "output_type": "stream",
     "text": [
      "Classification Report for: LogisticRegression():\n",
      "              precision    recall  f1-score   support\n",
      "\n",
      "           0       0.85      0.54      0.66       114\n",
      "           1       0.62      0.89      0.73        97\n",
      "\n",
      "    accuracy                           0.70       211\n",
      "   macro avg       0.73      0.71      0.69       211\n",
      "weighted avg       0.74      0.70      0.69       211\n",
      "\n",
      "Classification Report for: DecisionTreeClassifier():\n",
      "              precision    recall  f1-score   support\n",
      "\n",
      "           0       0.80      0.86      0.83       114\n",
      "           1       0.82      0.74      0.78        97\n",
      "\n",
      "    accuracy                           0.81       211\n",
      "   macro avg       0.81      0.80      0.80       211\n",
      "weighted avg       0.81      0.81      0.80       211\n",
      "\n",
      "Classification Report for: RandomForestClassifier():\n",
      "              precision    recall  f1-score   support\n",
      "\n",
      "           0       0.92      0.86      0.89       114\n",
      "           1       0.85      0.91      0.88        97\n",
      "\n",
      "    accuracy                           0.88       211\n",
      "   macro avg       0.88      0.88      0.88       211\n",
      "weighted avg       0.88      0.88      0.88       211\n",
      "\n",
      "Classification Report for: KNeighborsClassifier(n_neighbors=3):\n",
      "              precision    recall  f1-score   support\n",
      "\n",
      "           0       0.73      0.77      0.75       114\n",
      "           1       0.71      0.67      0.69        97\n",
      "\n",
      "    accuracy                           0.73       211\n",
      "   macro avg       0.72      0.72      0.72       211\n",
      "weighted avg       0.72      0.73      0.72       211\n",
      "\n"
     ]
    }
   ],
   "source": [
    "# Checking Precision recall and accuracy \n",
    "from sklearn.metrics import classification_report\n",
    "def generate_classification_report(model_name,y_test,y_pred):\n",
    "    report=classification_report(y_test,y_pred)\n",
    "    print(f'Classification Report for: {model_name}:\\n{report}')\n",
    "generate_classification_report(model1,y_resampled_test,y_pred_model1)\n",
    "generate_classification_report(model2,y_resampled_test,y_pred_model2)\n",
    "generate_classification_report(model3,y_resampled_test,y_pred_model3)\n",
    "generate_classification_report(model4,y_resampled_test,y_pred_model4)"
   ]
  },
  {
   "cell_type": "code",
   "execution_count": 85,
   "id": "ba477053",
   "metadata": {},
   "outputs": [],
   "source": [
    "# The classification is now giving better results since the dataset is now balanced"
   ]
  }
 ],
 "metadata": {
  "kernelspec": {
   "display_name": "Python 3 (ipykernel)",
   "language": "python",
   "name": "python3"
  },
  "language_info": {
   "codemirror_mode": {
    "name": "ipython",
    "version": 3
   },
   "file_extension": ".py",
   "mimetype": "text/x-python",
   "name": "python",
   "nbconvert_exporter": "python",
   "pygments_lexer": "ipython3",
   "version": "3.11.4"
  }
 },
 "nbformat": 4,
 "nbformat_minor": 5
}
